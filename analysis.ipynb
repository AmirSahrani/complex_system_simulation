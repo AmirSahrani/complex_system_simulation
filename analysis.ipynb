{
 "cells": [
  {
   "cell_type": "markdown",
   "metadata": {},
   "source": [
    "# Quasi-criticality in the Cortex"
   ]
  },
  {
   "cell_type": "code",
   "execution_count": null,
   "metadata": {},
   "outputs": [],
   "source": [
    "'''Setup notebook environment -q flag suppresses output, if you want to see it, remove the -q flag'''\n",
    "# %pip install -r requirements.txt -q\n",
    "from utils.plotting_utils import power_law_plot\n",
    "from utils.data_utils import load_data\n",
    "from utils.utils import simulate\n",
    "from branching import BranchingNeurons\n",
    "import os\n",
    "import numpy as np\n",
    "import matplotlib.pyplot as plt"
   ]
  },
  {
   "cell_type": "code",
   "execution_count": null,
   "metadata": {},
   "outputs": [],
   "source": [
    "if os.path.exists('data/branching_data.csv'):\n",
    "    data = load_data('data/branching_data.csv')\n",
    "else:\n",
    "    kwargs = {\n",
    "        'N': 1000,\n",
    "        'connection_probability': 1,\n",
    "        'visual': False,\n",
    "    }\n",
    "    data = simulate(BranchingNeurons, n_runs=3, duration=100000, **kwargs)\n"
   ]
  },
  {
   "cell_type": "code",
   "execution_count": null,
   "metadata": {},
   "outputs": [],
   "source": [
    "def get_max__length(data):\n",
    "    max_length = 0\n",
    "    for j in range(len(data)):\n",
    "        for i in range(len(data[j])):\n",
    "            if len(data[j][i]) > max_length:\n",
    "                max_length = len(data[j][i])\n",
    "    return max_length\n",
    "\n",
    "def pad_data_to_max_length(data, max_length):\n",
    "    for j in range(len(data)):\n",
    "        for i in range(len(data[j])):\n",
    "            if len(data[j][i]) < max_length:\n",
    "                data[j][i] = np.pad(data[j][i], (0, max_length - len(data[j][i])), 'constant', constant_values=(0, 0))\n",
    "    return data\n",
    "\n",
    "homogenous_data = np.array(pad_data_to_max_length(data, get_max__length(data)))"
   ]
  },
  {
   "cell_type": "code",
   "execution_count": null,
   "metadata": {},
   "outputs": [],
   "source": [
    "duration_data = homogenous_data[:,0,:]\n",
    "size_data = homogenous_data[:,1,:]"
   ]
  },
  {
   "cell_type": "code",
   "execution_count": null,
   "metadata": {},
   "outputs": [],
   "source": [
    "flattened = duration_data.flatten()\n",
    "plt.hist(flattened)\n",
    "plt.show()"
   ]
  }
 ],
 "metadata": {
  "kernelspec": {
   "display_name": "ComputationalEnv",
   "language": "python",
   "name": "python3"
  },
  "language_info": {
   "codemirror_mode": {
    "name": "ipython",
    "version": 3
   },
   "file_extension": ".py",
   "mimetype": "text/x-python",
   "name": "python",
   "nbconvert_exporter": "python",
   "pygments_lexer": "ipython3",
   "version": "3.11.4"
  }
 },
 "nbformat": 4,
 "nbformat_minor": 2
}
