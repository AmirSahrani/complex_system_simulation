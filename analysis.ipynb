{
 "cells": [
  {
   "cell_type": "markdown",
   "metadata": {},
   "source": [
    "# Quasi-criticality in the Cortex"
   ]
  },
  {
   "cell_type": "code",
<<<<<<< HEAD
   "execution_count": null,
   "metadata": {},
   "outputs": [],
   "source": [
    "'''Setup notebook environment -q flag suppresses output, if you want to see it, remove the -q flag'''\n",
    "%pip install -r requirements.txt -q\n",
    "from utils.plotting_utils import power_law_plot\n",
    "from utils.data_utils import load_data_csv"
=======
   "execution_count": 1,
   "metadata": {},
   "outputs": [],
   "source": [
    "'''Setup notebook environment -q flag suppresses output, if you want to see it, remove the -q flag'''\n",
    "# %pip install -r requirements.txt -q\n",
    "from utils.plotting_utils import power_law_plot\n",
    "from utils.data_utils import load_data\n",
    "from utils.utils import simulate\n",
    "from branching import BranchingNeurons\n",
    "import os\n",
    "import numpy as np\n",
    "import matplotlib.pyplot as plt"
   ]
  },
  {
   "cell_type": "code",
   "execution_count": 2,
   "metadata": {},
   "outputs": [
    {
     "name": "stderr",
     "output_type": "stream",
     "text": [
      "100%|██████████| 100/100 [00:00<00:00, 1032.20it/s]\n",
      "100%|██████████| 100/100 [00:00<00:00, 757.26it/s]\n",
      "100%|██████████| 100/100 [00:00<00:00, 915.28it/s]\n",
      "100%|██████████| 3/3 [00:20<00:00,  6.99s/it]\n"
     ]
    }
   ],
   "source": [
    "if os.path.exists('data/branching_data.csv'):\n",
    "    data = load_data('data/branching_data.csv')\n",
    "else:\n",
    "    kwargs = {\n",
    "        'N': 2500,\n",
    "        'max_neighbors': 15,\n",
    "        'visual': False,\n",
    "    }\n",
    "    data = simulate(BranchingNeurons, n_runs=3, duration=10000, **kwargs)\n"
>>>>>>> main
   ]
  },
  {
   "cell_type": "code",
   "execution_count": 3,
   "metadata": {},
   "outputs": [],
   "source": [
<<<<<<< HEAD
    "pattern_one = load_data_csv(\"data/with_pattern.csv\")\n",
    "no_pattern = load_data_csv(\"data/new_run_func.csv\")"
=======
    "def get_max__length(data):\n",
    "    max_length = 0\n",
    "    for j in range(len(data)):\n",
    "        for i in range(len(data[j])):\n",
    "            if len(data[j][i]) > max_length:\n",
    "                max_length = len(data[j][i])\n",
    "    return max_length\n",
    "\n",
    "def pad_data_to_max_length(data, max_length):\n",
    "    for j in range(len(data)):\n",
    "        for i in range(len(data[j])):\n",
    "            if len(data[j][i]) < max_length:\n",
    "                data[j][i] = np.pad(data[j][i], (0, max_length - len(data[j][i])), 'constant', constant_values=(0, 0))\n",
    "    return data\n",
    "\n",
    "homogenous_data = np.array(pad_data_to_max_length(data, get_max__length(data)))"
>>>>>>> main
   ]
  },
  {
   "cell_type": "code",
   "execution_count": 4,
   "metadata": {},
   "outputs": [],
   "source": [
<<<<<<< HEAD
    "print(pattern_one.head())\n",
    "print(pattern_one.describe())"
=======
    "duration_data = homogenous_data[:,0,:]\n",
    "size_data = homogenous_data[:,1,:]"
>>>>>>> main
   ]
  },
  {
   "cell_type": "code",
<<<<<<< HEAD
   "execution_count": null,
   "metadata": {},
   "outputs": [],
   "source": [
    "print(no_pattern.head())\n",
    "print(no_pattern.describe())"
=======
   "execution_count": 5,
   "metadata": {},
   "outputs": [
    {
     "data": {
      "image/png": "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",
      "text/plain": [
       "<Figure size 640x480 with 1 Axes>"
      ]
     },
     "metadata": {},
     "output_type": "display_data"
    }
   ],
   "source": [
    "flattened = size_data.flatten()\n",
    "plt.hist(flattened, histtype='step')\n",
    "plt.xscale('log')\n",
    "plt.ylabel('log')\n",
    "plt.show()"
>>>>>>> main
   ]
  },
  {
   "cell_type": "code",
<<<<<<< HEAD
   "execution_count": null,
   "metadata": {},
   "outputs": [],
   "source": [
    "# For avalache sizes\n",
    "power_law_plot(pattern_one['size'], data_type='size')\n",
    "\n",
    "# For avalanche durations\n",
    "power_law_plot(pattern_one['duration'], data_type='duration')"
   ]
  },
  {
   "cell_type": "code",
   "execution_count": null,
   "metadata": {},
   "outputs": [],
   "source": [
    "power_law_plot(no_pattern['size'], data_type='size')\n",
    "power_law_plot(no_pattern['duration'], data_type='duration')"
=======
   "execution_count": 7,
   "metadata": {},
   "outputs": [
    {
     "data": {
      "image/png": "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",
      "text/plain": [
       "<Figure size 640x480 with 1 Axes>"
      ]
     },
     "metadata": {},
     "output_type": "display_data"
    }
   ],
   "source": [
    "mean_duration = np.mean(duration_data, axis=0)\n",
    "mean_size = np.mean(size_data, axis=0)\n",
    "\n",
    "plt.scatter(mean_duration, mean_size)\n",
    "plt.xscale('log')\n",
    "plt.yscale('log')\n",
    "plt.show()"
>>>>>>> main
   ]
  }
 ],
 "metadata": {
  "kernelspec": {
   "display_name": "ComputationalEnv",
   "language": "python",
   "name": "python3"
  },
  "language_info": {
   "codemirror_mode": {
    "name": "ipython",
    "version": 3
   },
   "file_extension": ".py",
   "mimetype": "text/x-python",
   "name": "python",
   "nbconvert_exporter": "python",
   "pygments_lexer": "ipython3",
   "version": "3.11.5"
  }
 },
 "nbformat": 4,
 "nbformat_minor": 2
}
